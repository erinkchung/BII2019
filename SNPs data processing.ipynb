{
 "cells": [
  {
   "cell_type": "markdown",
   "metadata": {},
   "source": [
    "# analysis of SNPs in 70 genes associated with kidney, liver, small intestine transport and metabolism"
   ]
  },
  {
   "cell_type": "markdown",
   "metadata": {},
   "source": [
    "### Import dependencies"
   ]
  },
  {
   "cell_type": "code",
   "execution_count": 1,
   "metadata": {},
   "outputs": [],
   "source": [
    "from bs4 import BeautifulSoup\n",
    "import requests\n",
    "import pandas as pd\n",
    "import os"
   ]
  },
  {
   "cell_type": "markdown",
   "metadata": {},
   "source": [
    "### construct gene profile array"
   ]
  },
  {
   "cell_type": "markdown",
   "metadata": {},
   "source": [
    "scrape bookmarked gnomAD pages for gene names and IDs"
   ]
  },
  {
   "cell_type": "code",
   "execution_count": 2,
   "metadata": {},
   "outputs": [],
   "source": [
    "soup = BeautifulSoup(open('gnomad bookmarks.html'))\n",
    "links = soup.find_all('a')"
   ]
  },
  {
   "cell_type": "markdown",
   "metadata": {},
   "source": [
    "make 2D array of gene profiles with [gene name, gene ID]"
   ]
  },
  {
   "cell_type": "code",
   "execution_count": 3,
   "metadata": {},
   "outputs": [],
   "source": [
    "gene_profiles = []\n",
    "for link in links:\n",
    "    gene_info = [[link.text[:-9], link.get('href')[39:54]]]\n",
    "    gene_profiles += gene_info"
   ]
  },
  {
   "cell_type": "markdown",
   "metadata": {},
   "source": [
    "make array of corresponding CSV filenames"
   ]
  },
  {
   "cell_type": "code",
   "execution_count": 4,
   "metadata": {},
   "outputs": [],
   "source": [
    "gene_files = os.listdir('geneCSVs')"
   ]
  },
  {
   "cell_type": "markdown",
   "metadata": {},
   "source": [
    "add corresponding CSV filename to gene profile [gene name, gene ID, corresponding file]"
   ]
  },
  {
   "cell_type": "code",
   "execution_count": 5,
   "metadata": {},
   "outputs": [],
   "source": [
    "for gene_profile in gene_profiles:\n",
    "    for gene_file in gene_files:\n",
    "        if gene_profile[1] in gene_file[14:29]:\n",
    "            gene_profile += [str(gene_file)]"
   ]
  },
  {
   "cell_type": "markdown",
   "metadata": {},
   "source": [
    "### read data into dataframe(s)"
   ]
  },
  {
   "cell_type": "markdown",
   "metadata": {},
   "source": [
    "loop over profiles, read corresponding CSV into DF, load DFs into array"
   ]
  },
  {
   "cell_type": "code",
   "execution_count": 6,
   "metadata": {},
   "outputs": [],
   "source": [
    "gene_variant_tables = []\n",
    "for gene_profile in gene_profiles:\n",
    "    table = pd.read_csv('geneCSVs/' + gene_profile[2])\n",
    "    table['gene'] = gene_profile[0]\n",
    "    table['geneID'] = gene_profile[1]\n",
    "    table.set_index('gene', inplace = True)\n",
    "    gene_variant_tables += [table]"
   ]
  },
  {
   "cell_type": "markdown",
   "metadata": {},
   "source": [
    "### concatenate dataframes, keeping gene names as index"
   ]
  },
  {
   "cell_type": "code",
   "execution_count": 7,
   "metadata": {},
   "outputs": [],
   "source": [
    "frames = gene_variant_tables"
   ]
  },
  {
   "cell_type": "code",
   "execution_count": 8,
   "metadata": {},
   "outputs": [],
   "source": [
    "complete_table = pd.concat(frames)"
   ]
  },
  {
   "cell_type": "markdown",
   "metadata": {},
   "source": [
    "### write text file list of rsIDs (column index 2) for batch querying"
   ]
  },
  {
   "cell_type": "markdown",
   "metadata": {},
   "source": [
    "make rsID array from column in main data frame"
   ]
  },
  {
   "cell_type": "markdown",
   "metadata": {},
   "source": [
    "rsIDlist = []\n",
    "for x in range(len(complete_table.values)):\n",
    "    rsIDlist += [complete_table.values[x][2]]"
   ]
  },
  {
   "cell_type": "markdown",
   "metadata": {},
   "source": [
    "write rsID array to lines in text file"
   ]
  },
  {
   "cell_type": "markdown",
   "metadata": {},
   "source": [
    "with open('listrsIDs.txt', 'w') as IDfile:\n",
    "    for ID in rsIDlist:\n",
    "        IDfile.write(\"%s\\n\" % ID)"
   ]
  },
  {
   "cell_type": "markdown",
   "metadata": {},
   "source": [
    "(use text file for PolyPhen-2 batch query at http://genetics.bwh.harvard.edu/pph2/bgi.shtml and SIFT prediction query at https://sift.bii.a-star.edu.sg/www/SIFT_dbSNP.html)"
   ]
  },
  {
   "cell_type": "markdown",
   "metadata": {},
   "source": [
    "### prepare main dataframe for adding PolyPhen-2 and SIFT annotations"
   ]
  },
  {
   "cell_type": "markdown",
   "metadata": {},
   "source": [
    "make columns for PolyPhen-2 score, PolyPhen-2 prediction, SIFT score, and SIFT prediction"
   ]
  },
  {
   "cell_type": "code",
   "execution_count": 9,
   "metadata": {},
   "outputs": [],
   "source": [
    "complete_table['SIFT_prediction'] = ''"
   ]
  },
  {
   "cell_type": "code",
   "execution_count": 10,
   "metadata": {},
   "outputs": [],
   "source": [
    "complete_table['PPH2_prediction'] = ''"
   ]
  },
  {
   "cell_type": "markdown",
   "metadata": {},
   "source": [
    "### prepare array with rsIDs, referenceNTs, alternateNTs, SIFT predictions, and PolyPhen-2 predictons - SNPs prediction profiles"
   ]
  },
  {
   "cell_type": "markdown",
   "metadata": {},
   "source": [
    "(obtain SIFT results in html file - scrape)"
   ]
  },
  {
   "cell_type": "markdown",
   "metadata": {},
   "source": [
    "scrape rsID, reference nucleotide, alternate nucleotide, and SIFT prediction into SIFT profiles 2D array"
   ]
  },
  {
   "cell_type": "code",
   "execution_count": 11,
   "metadata": {},
   "outputs": [],
   "source": [
    "soup = BeautifulSoup(open('SIFT-scores.html'))"
   ]
  },
  {
   "cell_type": "code",
   "execution_count": 12,
   "metadata": {},
   "outputs": [],
   "source": [
    "rows = soup.find_all('tr')"
   ]
  },
  {
   "cell_type": "code",
   "execution_count": 13,
   "metadata": {},
   "outputs": [],
   "source": [
    "SIFT_profiles = []\n",
    "for row in rows[1:]:\n",
    "    profile = [row.find_all('td')[0].text, \\\n",
    "    row.find_all('td')[4].text, \\\n",
    "    row.find_all('td')[5].text, \\\n",
    "    row.find_all('td')[15].text]\n",
    "    # rsID, referenceNT, alternateNT, SIFTprediction\n",
    "    SIFT_profiles += [profile]"
   ]
  },
  {
   "cell_type": "markdown",
   "metadata": {},
   "source": [
    "(obtain PolyPhen-2 results in tab separated text file)"
   ]
  },
  {
   "cell_type": "markdown",
   "metadata": {},
   "source": [
    "add PolyPhen-2 predictions into prediction profiles array"
   ]
  },
  {
   "cell_type": "code",
   "execution_count": 14,
   "metadata": {},
   "outputs": [],
   "source": [
    "pph2_data = pd.read_csv('pph2-full.txt', sep='\\t')"
   ]
  },
  {
   "cell_type": "markdown",
   "metadata": {},
   "source": [
    "clean the spaces (there are so many wow)"
   ]
  },
  {
   "cell_type": "code",
   "execution_count": 15,
   "metadata": {},
   "outputs": [],
   "source": [
    "for row in range(len(pph2_data.values)):\n",
    "    for column in range(len(pph2_data.columns)):\n",
    "        pph2_data.iloc[row,column] = str(pph2_data.iloc[row,column]).strip()"
   ]
  },
  {
   "cell_type": "markdown",
   "metadata": {},
   "source": [
    "rsID, reference nucleotide, alternate nucleotide, and PolyPhenol-2 prediction into PPH2 profiles 2D array"
   ]
  },
  {
   "cell_type": "code",
   "execution_count": 16,
   "metadata": {},
   "outputs": [],
   "source": [
    "PPH2_profiles = []\n",
    "for row in range(len(pph2_data.values)):\n",
    "    profile = [pph2_data.values[row][0], \\\n",
    "    pph2_data.iloc[row,9], \\\n",
    "    pph2_data.iloc[row,10], \\\n",
    "    pph2_data.iloc[row,11]]    \n",
    "    # rsID, referenceNT, alternateNT, PPH2 prediction\n",
    "    PPH2_profiles += [profile]"
   ]
  },
  {
   "cell_type": "markdown",
   "metadata": {},
   "source": [
    "take off last few lines which are not SNP data"
   ]
  },
  {
   "cell_type": "code",
   "execution_count": 17,
   "metadata": {},
   "outputs": [],
   "source": [
    "PPH2_profiles = PPH2_profiles[:-5]"
   ]
  },
  {
   "cell_type": "markdown",
   "metadata": {},
   "source": [
    "### append main dataframe with predictions"
   ]
  },
  {
   "cell_type": "markdown",
   "metadata": {},
   "source": [
    "matching requirement for both SIFT and PolyPhenol-2: rsID, refNT, and altNT (rsID alone not unique since >1 altNT)"
   ]
  },
  {
   "cell_type": "code",
   "execution_count": null,
   "metadata": {},
   "outputs": [],
   "source": [
    "for row in range(len(complete_table.values)):\n",
    "    for SIFTrow in range(len(SIFT_profiles)):\n",
    "        if complete_table.iloc[row,2] == SIFT_profiles[SIFTrow][0] and \\\n",
    "        complete_table.iloc[row,3] == SIFT_profiles[SIFTrow][1] and \\\n",
    "        complete_table.iloc[row,4] == SIFT_profiles[SIFTrow][2]:\n",
    "            complete_table.iloc[row,51] = SIFT_profiles[SIFTrow][3]\n",
    "    for PPH2row in range(len(PPH2_profiles)):\n",
    "        if complete_table.iloc[row,2] == PPH2_profiles[PPH2row][0] and \\\n",
    "        complete_table.iloc[row,3] == PPH2_profiles[PPH2row][1] and \\\n",
    "        complete_table.iloc[row,4] == PPH2_profiles[PPH2row][2]:\n",
    "            complete_table.iloc[row,52] = PPH2_profiles[PPH2row][3]"
   ]
  },
  {
   "cell_type": "code",
   "execution_count": 26,
   "metadata": {},
   "outputs": [
    {
     "data": {
      "text/plain": [
       "['rs45607933', 'C', 'T', 'benign']"
      ]
     },
     "execution_count": 26,
     "metadata": {},
     "output_type": "execute_result"
    }
   ],
   "source": [
    "PPH2_profiles[0]"
   ]
  },
  {
   "cell_type": "code",
   "execution_count": 27,
   "metadata": {
    "scrolled": true
   },
   "outputs": [
    {
     "data": {
      "text/plain": [
       "array([11, 62744274, 'rs371714911', 'C', 'A',\n",
       "       'gnomAD Exomes,gnomAD Genomes', 'PASS', 'PASS', 'p.Gly562Ter',\n",
       "       'p.Gly562Ter', 'c.1684G>T', 'stop_gained', 'lc_lof', 9, 281000,\n",
       "       3.202846975088968e-05, 0, 0, 0, 24778, 0, 0, 0, 35240, 0, 0, 0,\n",
       "       10286, 0, 0, 0, 19924, 0, 0, 0, 25024, 0, 0, 9, 128350, 0, 0, 0,\n",
       "       7188, 0, 0, 0, 30210, 0, 0, 'ENSG00000197901', '', ''],\n",
       "      dtype=object)"
      ]
     },
     "execution_count": 27,
     "metadata": {},
     "output_type": "execute_result"
    }
   ],
   "source": [
    "complete_table.values[0]"
   ]
  },
  {
   "cell_type": "code",
   "execution_count": 28,
   "metadata": {},
   "outputs": [
    {
     "data": {
      "text/plain": [
       "'SIFT_prediction'"
      ]
     },
     "execution_count": 28,
     "metadata": {},
     "output_type": "execute_result"
    }
   ],
   "source": [
    "complete_table.columns[51]"
   ]
  },
  {
   "cell_type": "code",
   "execution_count": 29,
   "metadata": {
    "scrolled": true
   },
   "outputs": [
    {
     "data": {
      "text/plain": [
       "['rs45607933', 'C', 'T', 'benign']"
      ]
     },
     "execution_count": 29,
     "metadata": {},
     "output_type": "execute_result"
    }
   ],
   "source": [
    "PPH2_profiles[0]"
   ]
  },
  {
   "cell_type": "code",
   "execution_count": 30,
   "metadata": {},
   "outputs": [
    {
     "data": {
      "text/plain": [
       "3139"
      ]
     },
     "execution_count": 30,
     "metadata": {},
     "output_type": "execute_result"
    }
   ],
   "source": [
    "len(SIFT_profiles)"
   ]
  },
  {
   "cell_type": "markdown",
   "metadata": {},
   "source": [
    "add columns:\n",
    "SIFT using sequence,\n",
    "ortholog,\n",
    "VP"
   ]
  },
  {
   "cell_type": "code",
   "execution_count": null,
   "metadata": {},
   "outputs": [],
   "source": []
  }
 ],
 "metadata": {
  "kernelspec": {
   "display_name": "Python 3",
   "language": "python",
   "name": "python3"
  },
  "language_info": {
   "codemirror_mode": {
    "name": "ipython",
    "version": 3
   },
   "file_extension": ".py",
   "mimetype": "text/x-python",
   "name": "python",
   "nbconvert_exporter": "python",
   "pygments_lexer": "ipython3",
   "version": "3.7.2"
  }
 },
 "nbformat": 4,
 "nbformat_minor": 2
}
